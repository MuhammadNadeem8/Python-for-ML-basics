{
  "nbformat": 4,
  "nbformat_minor": 0,
  "metadata": {
    "colab": {
      "provenance": []
    },
    "kernelspec": {
      "name": "python3",
      "display_name": "Python 3"
    },
    "language_info": {
      "name": "python"
    }
  },
  "cells": [
    {
      "cell_type": "markdown",
      "source": [
        "**Question#1:**\n",
        "           Write a program that takes a string as input and counts the number of vowels and\n",
        "           consonants in the string."
      ],
      "metadata": {
        "id": "6CyjR-L4ml0P"
      }
    },
    {
      "cell_type": "markdown",
      "source": [
        "**Answer#1:**"
      ],
      "metadata": {
        "id": "4dZb7hUrf5kO"
      }
    },
    {
      "cell_type": "code",
      "execution_count": 23,
      "metadata": {
        "colab": {
          "base_uri": "https://localhost:8080/"
        },
        "id": "HygXDzMUfOut",
        "outputId": "c2dbe9ee-2a15-460e-c146-217cc38b308d"
      },
      "outputs": [
        {
          "output_type": "stream",
          "name": "stdout",
          "text": [
            "Aman Wali Khan\n",
            "Number of vowels:  6\n",
            "Number of Consonants:  8\n",
            "aman wali khan\n",
            "Number of vowels:  7\n",
            "Number of Consonants:  7\n",
            "aman wali khan\n",
            "Number of vowels:  5\n",
            "Number of Consonants:  9\n"
          ]
        }
      ],
      "source": [
        "string_as_input=\"Aman Wali Khan\" # This is hard codding but we can take input from user by using input function.\n",
        "print(string_as_input)\n",
        "accum=0 # initializer\n",
        "for i in string_as_input:\n",
        "  if i in \"a, e, i, o, u\":\n",
        "    accum=accum+1\n",
        "  else:\n",
        "    consonent=len(string_as_input)-accum\n",
        "print(\"Number of vowels: \",accum)\n",
        "print(\"Number of Consonants: \",consonent)\n",
        "\n",
        "# impotant note:\n",
        "                #if some one inter the vowel in upper case will still cosider as consonent so we have to handel this we will have to use the lowecae method after the user intry.\n",
        "string_as_input=\"Aman Wali Khan\"\n",
        "string_as_input.lower()\n",
        "print(string_as_input.lower())\n",
        "accum=0 # initializer\n",
        "for i in string_as_input.lower():\n",
        "  if i in \"a, e, i, o, u\":\n",
        "    accum=accum+1\n",
        "  else:\n",
        "    consonent=len(string_as_input.lower())-accum\n",
        "print(\"Number of vowels: \",accum)\n",
        "print(\"Number of Consonants: \",consonent)\n",
        "# Not: Now another issue is here the interpreter count the space as will in the consonent so we have to update the code.\n",
        "\n",
        "\n",
        "string_as_input=\"Aman Wali Khan\"\n",
        "string_as_input.lower()\n",
        "print(string_as_input.lower())\n",
        "accum=0 # initializer\n",
        "for i in string_as_input.lower():\n",
        "  if i in \"aeiou\":\n",
        "    accum=accum+1\n",
        "  else:\n",
        "    if i!=\" \":\n",
        "     consonent=len(string_as_input.lower())-accum\n",
        "print(\"Number of vowels: \",accum)\n",
        "print(\"Number of Consonants: \",consonent)\n"
      ]
    },
    {
      "cell_type": "markdown",
      "source": [
        "**Question#2:**\n",
        "             Write a Python program that accepts a filename from the user and prints the extension\n",
        "             of the file."
      ],
      "metadata": {
        "id": "0NZEEfEWnJiq"
      }
    },
    {
      "cell_type": "markdown",
      "source": [
        "**Answer#2:**"
      ],
      "metadata": {
        "id": "OERnWx7516Sg"
      }
    },
    {
      "cell_type": "code",
      "source": [
        "user_input=input(\"please inter the file you predect its extension: \")\n",
        "dot_position=user_input.index(\".\")\n",
        "logic=user_input[dot_position+1:]\n",
        "print(\"The extention of the document you provided is: \",logic)"
      ],
      "metadata": {
        "colab": {
          "base_uri": "https://localhost:8080/"
        },
        "id": "r4eZe4HH149N",
        "outputId": "b2133f86-0469-48b7-ebe2-72bfbc4072a2"
      },
      "execution_count": 31,
      "outputs": [
        {
          "output_type": "stream",
          "name": "stdout",
          "text": [
            "please inter the file you predect its extension: Muhammad Nadeem_assignment_2.pdf\n",
            "The extention of the document you provided is:  pdf\n"
          ]
        }
      ]
    },
    {
      "cell_type": "markdown",
      "source": [
        "**Question#3:**\n",
        "          Write a Python program to check if value 200 exists in the following dictionary."
      ],
      "metadata": {
        "id": "986qrAyQnicN"
      }
    },
    {
      "cell_type": "markdown",
      "source": [
        "**Answer#3:**"
      ],
      "metadata": {
        "id": "B3XgtWMP7qnh"
      }
    },
    {
      "cell_type": "code",
      "source": [
        "Sample_dict = {'a': 100, 'b': 200, 'c': 300}\n",
        "if 200 in Sample_dict.values():\n",
        "  print(\"yes, 200 is present in the given dectionary.\")\n",
        "else:\n",
        "  print(\"Sorry 200 is absent in given dectionary.\")"
      ],
      "metadata": {
        "colab": {
          "base_uri": "https://localhost:8080/"
        },
        "id": "Xz3ZTz9x62r-",
        "outputId": "f9158b82-dbde-4acf-b04e-cbb75916b5c2"
      },
      "execution_count": 36,
      "outputs": [
        {
          "output_type": "stream",
          "name": "stdout",
          "text": [
            "yes, 200 is present in the given dectionary.\n"
          ]
        }
      ]
    },
    {
      "cell_type": "markdown",
      "source": [
        "**Question#4:**\n",
        "          The given tuple is a nested tuple. Write a Python program to print the value 20."
      ],
      "metadata": {
        "id": "R7TjeFtbnyAQ"
      }
    },
    {
      "cell_type": "markdown",
      "source": [
        "**Answer#4:**"
      ],
      "metadata": {
        "id": "XS6sB_-v9r5I"
      }
    },
    {
      "cell_type": "code",
      "source": [
        "tupple=(\"orange\",[10,20,30],(5,15,25))\n",
        "for i in tupple:\n",
        "  if i==20:\n",
        "    print(i,\"is present in the element.\")\n",
        "  else:\n",
        "     for j in i:\n",
        "      if j==20:\n",
        "        print(j,\"is present in sub element of nested tupple.\")\n",
        ""
      ],
      "metadata": {
        "colab": {
          "base_uri": "https://localhost:8080/"
        },
        "id": "QYCmAm_79qj2",
        "outputId": "fba343de-0c8a-4574-c1bd-6c5ae2e77886"
      },
      "execution_count": 50,
      "outputs": [
        {
          "output_type": "stream",
          "name": "stdout",
          "text": [
            "20 is present in sub element of nested tupple.\n"
          ]
        }
      ]
    },
    {
      "cell_type": "markdown",
      "source": [
        "**Question#5:**\n",
        "          Write a Python program that calculates the Body Mass Index (BMI) for a person\n",
        "          based on their weight (in kilograms) and height (in meters). The BMI is calculated\n",
        "          using the following formula:"
      ],
      "metadata": {
        "id": "Z6wAnbn5oBv7"
      }
    },
    {
      "cell_type": "markdown",
      "source": [
        "**Answer#5:**"
      ],
      "metadata": {
        "id": "Bl4uHHWKf-o-"
      }
    },
    {
      "cell_type": "code",
      "source": [
        "input_for_wieght=int(input(\"\"\"please enter your wieght in kilograme: \"\"\"))\n",
        "input_for_hight=int(input(\"\"\"please enter you height in meter only:  \"\"\"))\n",
        "calculation_of_BMI=(input_for_wieght)/((input_for_hight)**2)\n",
        "if calculation_of_BMI<18.5:\n",
        "\tprint(\"you are underwieght.\")\n",
        "\tif 18.5<=calculation_of_BMI<25:\n",
        "\t\tprint(\"you have normal weight\")\n",
        "\t\tif 25<=calculation_of_BMI<30:\n",
        "\t\t\tprint(\"you are over wighted\")\n",
        "else:\n",
        "\t\tprint(\"you are obes\")\n",
        "#Note: here is the problem that why it doesn't receive the hight in fraction? Let's solve this problem. for this i simply replace the int in hieght line to the float.\n",
        "\n",
        "print(\"bellow this the programe will repeat and will not crash even if we inter the float to it in input\")\n",
        "input_for_wieght=float(input(\"\"\"please enter your wieght in kilograme: \"\"\"))\n",
        "input_for_hight=float(input(\"\"\"please enter you height in meter only:  \"\"\"))\n",
        "calculation_of_BMI=(input_for_wieght)/((input_for_hight)**2)\n",
        "if calculation_of_BMI<18.5:\n",
        "\tprint(\"you are underwieght.\")\n",
        "\tif 18.5<=calculation_of_BMI<25:\n",
        "\t\tprint(\"you have normal weight\")\n",
        "\t\tif 25<=calculation_of_BMI<30:\n",
        "\t\t\tprint(\"you are over wighted\")\n",
        "else:\n",
        "\t\tprint(\"you are obes\")"
      ],
      "metadata": {
        "colab": {
          "base_uri": "https://localhost:8080/"
        },
        "id": "EtCKZ36Qf92M",
        "outputId": "66659452-ce9a-4492-d674-1d526ef873fe"
      },
      "execution_count": 5,
      "outputs": [
        {
          "output_type": "stream",
          "name": "stdout",
          "text": [
            "please enter your wieght in kilograme: 60\n",
            "please enter you height in meter only:  2\n",
            "you are underwieght.\n",
            "bellow this the programe will repeat and will not crash even if we inter the float to it in input\n",
            "please enter your wieght in kilograme: 60\n",
            "please enter you height in meter only:  2\n",
            "you are underwieght.\n"
          ]
        }
      ]
    },
    {
      "cell_type": "markdown",
      "source": [
        "**Question#6:**\n",
        "             Write a Python program that prompts the user to input a string. The program\n",
        "             should count the frequency of each character in the string and then print the result\n",
        "             as a dictionary."
      ],
      "metadata": {
        "id": "txZwsDlHoYCi"
      }
    },
    {
      "cell_type": "markdown",
      "source": [
        "**Answer#6:**"
      ],
      "metadata": {
        "id": "ON1LQAXVjQDa"
      }
    },
    {
      "cell_type": "code",
      "source": [
        "user_prompt=input(\"please inter the string without the coatation commas\")\n",
        "new_dect={}\n",
        "for i in user_prompt:\n",
        "  new_dect[i]=new_dect.get(i,0)+1\n",
        "print(\"the string charactors frequencies are given in\", new_dect)\n",
        "# Here, the importance cridet to get method."
      ],
      "metadata": {
        "colab": {
          "base_uri": "https://localhost:8080/"
        },
        "id": "9n1jAZz0jWLk",
        "outputId": "3b4749b2-4db4-4db8-eac9-e77f51eab508"
      },
      "execution_count": 6,
      "outputs": [
        {
          "output_type": "stream",
          "name": "stdout",
          "text": [
            "please inter the string without the coatation commasnadeem\n",
            "the string charactors frequencies are given in {'n': 1, 'a': 1, 'd': 1, 'e': 2, 'm': 1}\n"
          ]
        }
      ]
    },
    {
      "cell_type": "markdown",
      "source": [
        "**Question#7:**\n",
        "             Write a Python program that takes a string input from the user and checks if it is a valid\n",
        "             email address. If it is valid, print \"Valid email address\", otherwise print \"Invalid email\n",
        "             address\"."
      ],
      "metadata": {
        "id": "5JTfDmpeo7JO"
      }
    },
    {
      "cell_type": "markdown",
      "source": [
        "**Answer#7:**"
      ],
      "metadata": {
        "id": "BFZ8ls46nzto"
      }
    },
    {
      "cell_type": "code",
      "source": [
        "email = input(\"Enter your Email:\")\n",
        "\n",
        "valid = True\n",
        "\n",
        "if len(email) < 6:\n",
        "    valid = False\n",
        "\n",
        "if \"@\" not in email or email.count(\"@\") != 1:\n",
        "    valid = False\n",
        "\n",
        "parts = email.split('@')\n",
        "if len(parts) != 2:\n",
        "    valid = False\n",
        "else:\n",
        "    domain_parts = parts[1].split('.')\n",
        "    if len(domain_parts) < 2 or any(len(part) < 2 for part in domain_parts):\n",
        "        valid = False\n",
        "\n",
        "for char in email:\n",
        "    if char.isupper() or char.isspace():\n",
        "        valid = False\n",
        "        break\n",
        "\n",
        "if valid:\n",
        "    print(\"Valid Email\")\n",
        "else:\n",
        "    print(\"Invalid Email\")\n"
      ],
      "metadata": {
        "colab": {
          "base_uri": "https://localhost:8080/"
        },
        "id": "_buVyY_w3Gw0",
        "outputId": "b0802a80-88bb-4548-e11b-8cd59702849f"
      },
      "execution_count": 15,
      "outputs": [
        {
          "output_type": "stream",
          "name": "stdout",
          "text": [
            "Enter your Email:muhammad.nadeem.xai@gmail.com\n",
            "Valid Email\n"
          ]
        }
      ]
    },
    {
      "cell_type": "markdown",
      "source": [
        "Question#8:\n",
        "          Given a tuple of tuples, write a Python program to print the sum of the elements\n",
        "          in each inner tuple."
      ],
      "metadata": {
        "id": "QMmh_LC0pRh3"
      }
    },
    {
      "cell_type": "markdown",
      "source": [
        "**Answer#8:**"
      ],
      "metadata": {
        "id": "W-hm4v3K3Ta_"
      }
    },
    {
      "cell_type": "code",
      "source": [
        "tupple=((1,2,3),(4,5,6),(7,8,9))\n",
        "for i in tupple:\n",
        "\taccume=0\n",
        "\tfor j in i:\n",
        "\t\taccume=accume+j\n",
        "\tprint(accume)"
      ],
      "metadata": {
        "id": "DlNcLLDYf9j8"
      },
      "execution_count": null,
      "outputs": []
    },
    {
      "cell_type": "markdown",
      "source": [
        "**Question#9:**\n",
        "             Create a list containing the 10 numbers . Print the first Three prime numbers from\n",
        "             the list."
      ],
      "metadata": {
        "id": "rbhcB7Z5phyk"
      }
    },
    {
      "cell_type": "markdown",
      "source": [
        "**Answer#9:**"
      ],
      "metadata": {
        "id": "kzE9CHn_3ZX2"
      }
    },
    {
      "cell_type": "code",
      "source": [
        "alist=[1,2,3,4,5,6,7,8,9,10]\n",
        "new_list=[]\n",
        "def is_prime(num):\n",
        "    if num <= 1:\n",
        "        return False\n",
        "    for i in range(2, int(num ** 0.5) + 1):\n",
        "        if num % i == 0:\n",
        "            return False\n",
        "    return True\n",
        "for i in alist:\n",
        "  if is_prime(i) and len(new_list)<=2:\n",
        "    new_list.append(i)\n",
        "print(new_list)\n",
        "\n"
      ],
      "metadata": {
        "colab": {
          "base_uri": "https://localhost:8080/"
        },
        "id": "OWADaB6O3ito",
        "outputId": "74aca19e-3e58-41f6-ace2-87ae32a9ca10"
      },
      "execution_count": 37,
      "outputs": [
        {
          "output_type": "stream",
          "name": "stdout",
          "text": [
            "[2, 3, 5]\n"
          ]
        }
      ]
    },
    {
      "cell_type": "markdown",
      "source": [
        "**Question#10:**\n",
        "                Given a list of dictionaries representing students' information (name, age, grade),\n",
        "                Write a Python program to sort the students based on their grades in descending\n",
        "                order and print the sorted list."
      ],
      "metadata": {
        "id": "8BQpO1e8pxh0"
      }
    },
    {
      "cell_type": "markdown",
      "source": [
        "**Answer#10:**"
      ],
      "metadata": {
        "id": "TnsVOD_sIS2c"
      }
    },
    {
      "cell_type": "code",
      "source": [
        "students=[\n",
        "    {\"name\":\"Nadeem\",\"age\":24,\"grade\":85},\n",
        "    {\"name\":\"Saleem\",\"age\":22,\"grade\":70},\n",
        "    {\"name\":\"Kaleem\",\"age\":17,\"grade\":95}\n",
        "]\n",
        "def sor_by_grade_of(students):\n",
        "  return students[\"grade\"]\n",
        "students.sort(key=sor_by_grade_of, reverse=True)\n",
        "print(\"list of students:\")\n",
        "for i in students:\n",
        "  print(i)"
      ],
      "metadata": {
        "colab": {
          "base_uri": "https://localhost:8080/"
        },
        "id": "EoRw0WTE5WlC",
        "outputId": "65c539af-8790-4beb-da2a-a951ffa14aa6"
      },
      "execution_count": 48,
      "outputs": [
        {
          "output_type": "stream",
          "name": "stdout",
          "text": [
            "list of students:\n",
            "{'name': 'Kaleem', 'age': 17, 'grade': 95}\n",
            "{'name': 'Nadeem', 'age': 24, 'grade': 85}\n",
            "{'name': 'Saleem', 'age': 22, 'grade': 70}\n"
          ]
        }
      ]
    },
    {
      "cell_type": "markdown",
      "source": [
        "**Question#11:**\n",
        "             Create a program that takes a list of multiple numbers separated with commas (,) from\n",
        "the user and finds the total number of unique values in the list and also prints them."
      ],
      "metadata": {
        "id": "3FLzVoVXqHt5"
      }
    },
    {
      "cell_type": "markdown",
      "source": [
        "**Answer#11:**"
      ],
      "metadata": {
        "id": "bg-iJ07SIb_p"
      }
    },
    {
      "cell_type": "code",
      "source": [
        "u_input=input(\"pleae inter the number separated by commas: \")\n",
        "user_aray=u_input.split(\",\")\n",
        "new_list=[]\n",
        "for i in user_aray:\n",
        "  num=int(i)\n",
        "  if num not in new_list:\n",
        "    new_list.append(num)\n",
        "print('the lenth of the unique elements containing list is: ',len(new_list))\n",
        "print(new_list)"
      ],
      "metadata": {
        "colab": {
          "base_uri": "https://localhost:8080/"
        },
        "id": "HW9foYILIiM7",
        "outputId": "995c04a4-0806-45ed-da37-75d5f5860b68"
      },
      "execution_count": 55,
      "outputs": [
        {
          "output_type": "stream",
          "name": "stdout",
          "text": [
            "pleae inter the number separated by commas: 1,1,1,2,3,4,5,5,6\n",
            "the lenth of the unique elements containing list is:  6\n",
            "[1, 2, 3, 4, 5, 6]\n"
          ]
        }
      ]
    },
    {
      "cell_type": "markdown",
      "source": [
        "**Question#12:**\n",
        "              Write a program that takes two lists as input and returns a new list containing elements\n",
        "that are common to both lists."
      ],
      "metadata": {
        "id": "_eRFJS3UqbER"
      }
    },
    {
      "cell_type": "markdown",
      "source": [
        "**Answer#12:**"
      ],
      "metadata": {
        "id": "_M12lN66N4dg"
      }
    },
    {
      "cell_type": "code",
      "source": [
        "\n",
        "list1 = [1, 2, 3, 4, 5]\n",
        "list2 = [3, 4, 6, 7, 9]\n",
        "common_elements = set(list1).intersection(set(list2))\n",
        "print(list(common_elements))\n",
        "\n"
      ],
      "metadata": {
        "colab": {
          "base_uri": "https://localhost:8080/"
        },
        "id": "YR4xnFCiN_Sg",
        "outputId": "4830c1c4-6417-4837-af22-283fc6cd54b5"
      },
      "execution_count": 61,
      "outputs": [
        {
          "output_type": "stream",
          "name": "stdout",
          "text": [
            "[3, 4]\n"
          ]
        }
      ]
    },
    {
      "cell_type": "markdown",
      "source": [
        "**Question#13:**\n",
        "              Write a program that takes two dictionaries as input and merges them into a new\n",
        "dictionary. If there are common keys, combine their values."
      ],
      "metadata": {
        "id": "dParMUGIqzWP"
      }
    },
    {
      "cell_type": "markdown",
      "source": [
        "**Answer#13:**"
      ],
      "metadata": {
        "id": "fGZm3X_EQ3-l"
      }
    },
    {
      "cell_type": "code",
      "source": [
        "dict1 = {'a': 5, 'b': 10, 'c': 15}\n",
        "dict2 = {'b': 20, 'c': 25, 'd': 30}\n",
        "new_dect={}\n",
        "for key in dict1:\n",
        "  new_dect[key]=dict1[key]\n",
        "for key in dict2:\n",
        "  if key in new_dect:\n",
        "    new_dect[key]=new_dect[key]+dict2[key]\n",
        "  else:\n",
        "    new_dect[key]=dict2[key]\n",
        "print('The result according to the question will be: ',new_dect )\n"
      ],
      "metadata": {
        "colab": {
          "base_uri": "https://localhost:8080/"
        },
        "id": "gWg2-ObcQ9S4",
        "outputId": "d8f84c9f-d677-4bca-fd75-6fe374dd25da"
      },
      "execution_count": 62,
      "outputs": [
        {
          "output_type": "stream",
          "name": "stdout",
          "text": [
            "The result according to the question will be:  {'a': 5, 'b': 30, 'c': 40, 'd': 30}\n"
          ]
        }
      ]
    },
    {
      "cell_type": "markdown",
      "source": [
        "**Question#14:**\n",
        "             Write a program that takes two numbers, base and exponent, and calculates the result\n",
        "of raising base to the power of exponent using the ** operator."
      ],
      "metadata": {
        "id": "dAgdVGnwrFXr"
      }
    },
    {
      "cell_type": "markdown",
      "source": [
        "**Answer#14:**"
      ],
      "metadata": {
        "id": "vXLnxLQkTPTT"
      }
    },
    {
      "cell_type": "code",
      "source": [
        "user_input1= float(input(\"pleae inter the base\"))\n",
        "user_input2= float(input(\"pleae inter the expo\"))\n",
        "def power(x,y):\n",
        "  return x**y\n",
        "power(user_input1,user_input2)"
      ],
      "metadata": {
        "colab": {
          "base_uri": "https://localhost:8080/"
        },
        "id": "uADaClELTWR6",
        "outputId": "c9addd3d-258d-4929-96ea-c14ec59641b1"
      },
      "execution_count": 64,
      "outputs": [
        {
          "name": "stdout",
          "output_type": "stream",
          "text": [
            "pleae inter the base2\n",
            "pleae inter the expo3\n"
          ]
        },
        {
          "output_type": "execute_result",
          "data": {
            "text/plain": [
              "8.0"
            ]
          },
          "metadata": {},
          "execution_count": 64
        }
      ]
    },
    {
      "cell_type": "markdown",
      "source": [
        "**Question#15:**\n",
        "              Write a program that takes a temperature in Celsius as input and converts it to\n",
        "Fahrenheit using the formula."
      ],
      "metadata": {
        "id": "4R_0iruJrU_Q"
      }
    },
    {
      "cell_type": "markdown",
      "source": [
        "**Answer#15:**"
      ],
      "metadata": {
        "id": "jg-iVLfYXwed"
      }
    },
    {
      "cell_type": "code",
      "source": [
        "user_input=float(input(\"please inter the temprature in *C only: \"))\n",
        "coversion=(user_input * 9/5) + 32.0\n",
        "print(coversion)\n"
      ],
      "metadata": {
        "colab": {
          "base_uri": "https://localhost:8080/"
        },
        "id": "9jai5IOsX4Bl",
        "outputId": "90aa23bf-dc7f-46d8-e59f-47d5d564d169"
      },
      "execution_count": 65,
      "outputs": [
        {
          "output_type": "stream",
          "name": "stdout",
          "text": [
            "please inter the temprature in *C only: 25\n",
            "77.0\n"
          ]
        }
      ]
    },
    {
      "cell_type": "markdown",
      "source": [
        "**Question#16:**\n",
        "            Write a Python program to reverse a list without using built-in functions."
      ],
      "metadata": {
        "id": "Y-JO233KriyQ"
      }
    },
    {
      "cell_type": "markdown",
      "source": [
        "**Answer#16:**"
      ],
      "metadata": {
        "id": "c6eXIooxZBVN"
      }
    },
    {
      "cell_type": "code",
      "source": [
        "list=[1,3,'Nadeem',55]\n",
        "list.reverse()\n",
        "print(list)"
      ],
      "metadata": {
        "colab": {
          "base_uri": "https://localhost:8080/"
        },
        "id": "aRDBclrfZHJg",
        "outputId": "b8d5eb3a-571b-4704-fc09-8603d8a36492"
      },
      "execution_count": 67,
      "outputs": [
        {
          "output_type": "stream",
          "name": "stdout",
          "text": [
            "[55, 'Nadeem', 3, 1]\n"
          ]
        }
      ]
    },
    {
      "cell_type": "markdown",
      "source": [
        "**Question#17:**\n",
        "              Given a string \"Hello World\", write a Python program to reverse the string without\n",
        "reversing the individual words."
      ],
      "metadata": {
        "id": "PaxMFoPAr0Cv"
      }
    },
    {
      "cell_type": "markdown",
      "source": [
        "**Answer#17:**"
      ],
      "metadata": {
        "id": "8arKskfhZnJ9"
      }
    },
    {
      "cell_type": "code",
      "source": [
        "given_string='Hello World'\n",
        "splitting=given_string.split()\n",
        "print('testing1: ',splitting)\n",
        "splitting.reverse()\n",
        "print('testing2: ',splitting)\n",
        "print('Our desired result:  ')\n",
        "' '.join(splitting)"
      ],
      "metadata": {
        "colab": {
          "base_uri": "https://localhost:8080/",
          "height": 88
        },
        "id": "r12CNFEIZsz5",
        "outputId": "dba8d2ec-c331-4d1a-ae37-f17ad81762df"
      },
      "execution_count": 77,
      "outputs": [
        {
          "output_type": "stream",
          "name": "stdout",
          "text": [
            "testing1:  ['Hello', 'World']\n",
            "testing2:  ['World', 'Hello']\n",
            "Our desired result:  \n"
          ]
        },
        {
          "output_type": "execute_result",
          "data": {
            "text/plain": [
              "'World Hello'"
            ],
            "application/vnd.google.colaboratory.intrinsic+json": {
              "type": "string"
            }
          },
          "metadata": {},
          "execution_count": 77
        }
      ]
    },
    {
      "cell_type": "markdown",
      "source": [
        "**Question#18:**\n",
        "              Implement a Python function is_palindrome() that checks whether a passed string is a\n",
        "palindrome (reads the same forward and backward) and tests it with \"radar\"."
      ],
      "metadata": {
        "id": "ieDhpA0hsBXb"
      }
    },
    {
      "cell_type": "markdown",
      "source": [
        "**Answer#18:**"
      ],
      "metadata": {
        "id": "PrAKD8ezcFQl"
      }
    },
    {
      "cell_type": "code",
      "source": [
        "# palindrome is the word symmetric from mid charactor i.e radar, level e.t.c.\n",
        "user_input=input('please the worde to che if it is  palindrome or not:  ')\n",
        "def is_palindrome(user_input):\n",
        "  if user_input==user_input[::-1]:\n",
        "    print('True')\n",
        "  else:\n",
        "    print('False')\n",
        "is_palindrome(user_input)"
      ],
      "metadata": {
        "colab": {
          "base_uri": "https://localhost:8080/"
        },
        "id": "yiRpi1MAcLor",
        "outputId": "cbb4125f-e6cc-4761-d723-c36ab9892cd6"
      },
      "execution_count": 88,
      "outputs": [
        {
          "output_type": "stream",
          "name": "stdout",
          "text": [
            "please the worde to che if it is  palindrome or not:  Nadeem\n",
            "False\n"
          ]
        }
      ]
    },
    {
      "cell_type": "markdown",
      "source": [
        "**Question#19:**\n",
        "             Write a program that returns a list of even numbers from a given list."
      ],
      "metadata": {
        "id": "nZWG4ZgisP42"
      }
    },
    {
      "cell_type": "markdown",
      "source": [
        "**Answer#19:**"
      ],
      "metadata": {
        "id": "wYfmej5Zhaw9"
      }
    },
    {
      "cell_type": "code",
      "source": [
        "given_list=[2, 5, 3, 7, 9, 53, 10, 32, 65, 76, 98]\n",
        "for i in given_list:\n",
        "  if i%2==0:\n",
        "    print('the number', i, 'is even')\n",
        "  else:\n",
        "    print('the number', i, 'is odd')\n"
      ],
      "metadata": {
        "colab": {
          "base_uri": "https://localhost:8080/"
        },
        "id": "OVr9nFQvhiPB",
        "outputId": "537867e0-8951-4dd1-da7b-c0b5b93b77a0"
      },
      "execution_count": 94,
      "outputs": [
        {
          "output_type": "stream",
          "name": "stdout",
          "text": [
            "the number 2 is even\n",
            "the number 5 is odd\n",
            "the number 3 is odd\n",
            "the number 7 is odd\n",
            "the number 9 is odd\n",
            "the number 53 is odd\n",
            "the number 10 is even\n",
            "the number 32 is even\n",
            "the number 65 is odd\n",
            "the number 76 is even\n",
            "the number 98 is even\n"
          ]
        }
      ]
    },
    {
      "cell_type": "markdown",
      "source": [
        "**Question#20:**\n",
        "             Given two lists keys = ['a', 'b', 'c'] and values = [1, 2, 3], write a Python program\n",
        "to create a dictionary from these lists."
      ],
      "metadata": {
        "id": "jPWXUGn1sfNr"
      }
    },
    {
      "cell_type": "markdown",
      "source": [
        "**Answer#20:**"
      ],
      "metadata": {
        "id": "8_rneij9jNvn"
      }
    },
    {
      "cell_type": "code",
      "source": [
        "keys = ['a', 'b', 'c']\n",
        "values = [1, 2, 7]\n",
        "new_dect={}\n",
        "for i in range(len(keys)):\n",
        "  new_dect[keys[i]]=values[i]\n",
        "print('the new decionary is:  ',new_dect)\n"
      ],
      "metadata": {
        "colab": {
          "base_uri": "https://localhost:8080/"
        },
        "id": "pSsj6wLCjTXq",
        "outputId": "a38eb769-8685-481a-a7c4-b5637b9269fc"
      },
      "execution_count": 97,
      "outputs": [
        {
          "output_type": "stream",
          "name": "stdout",
          "text": [
            "the new decionary is:   {'a': 1, 'b': 2, 'c': 7}\n"
          ]
        }
      ]
    }
  ]
}